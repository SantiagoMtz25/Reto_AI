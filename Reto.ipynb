{
  "nbformat": 4,
  "nbformat_minor": 0,
  "metadata": {
    "colab": {
      "provenance": []
    },
    "kernelspec": {
      "name": "python3",
      "display_name": "Python 3"
    },
    "language_info": {
      "name": "python"
    }
  },
  "cells": [
    {
      "cell_type": "markdown",
      "source": [
        "## ETL process"
      ],
      "metadata": {
        "id": "FdYQ-fRcWRbj"
      }
    },
    {
      "cell_type": "code",
      "source": [],
      "metadata": {
        "id": "2TBgnQqqYcgq"
      },
      "execution_count": null,
      "outputs": []
    },
    {
      "cell_type": "markdown",
      "source": [
        "Distributions"
      ],
      "metadata": {
        "id": "j122V0teX5D9"
      }
    },
    {
      "cell_type": "code",
      "source": [],
      "metadata": {
        "id": "fT8SDXktYcOF"
      },
      "execution_count": null,
      "outputs": []
    },
    {
      "cell_type": "markdown",
      "source": [
        "Missing Data"
      ],
      "metadata": {
        "id": "KEe3Ig7JYCPK"
      }
    },
    {
      "cell_type": "code",
      "source": [],
      "metadata": {
        "id": "YtHPpyQVYb2W"
      },
      "execution_count": null,
      "outputs": []
    },
    {
      "cell_type": "markdown",
      "source": [
        "Corelation Analysis"
      ],
      "metadata": {
        "id": "lZzyVHxyYHVC"
      }
    },
    {
      "cell_type": "code",
      "source": [],
      "metadata": {
        "id": "MVZFDCdaYbe3"
      },
      "execution_count": null,
      "outputs": []
    },
    {
      "cell_type": "markdown",
      "source": [
        "Data Transformation"
      ],
      "metadata": {
        "id": "2sum6l9zYY57"
      }
    },
    {
      "cell_type": "code",
      "source": [],
      "metadata": {
        "id": "WwIXJRdTW9GM"
      },
      "execution_count": null,
      "outputs": []
    },
    {
      "cell_type": "markdown",
      "source": [
        "## Classification"
      ],
      "metadata": {
        "id": "vkHggEZyXG64"
      }
    },
    {
      "cell_type": "markdown",
      "source": [
        "1. Logistic Regresion:\n",
        "\n",
        "Justification: Powerful algorithm for binary classification problems like predicting survival in this case survived or not survided. Plus it is easily interpretable."
      ],
      "metadata": {
        "id": "86IeNxUcYick"
      }
    },
    {
      "cell_type": "code",
      "source": [],
      "metadata": {
        "id": "Xqo5kIOEaAs0"
      },
      "execution_count": null,
      "outputs": []
    },
    {
      "cell_type": "markdown",
      "source": [
        "2. Random Forest:\n",
        "\n",
        "Justification: Given the Titanic dataset’s diversity in features (like age, fare, class, etc.), Random Forest can effectively capture the non-linear relationships between features and survival."
      ],
      "metadata": {
        "id": "dFLkpPnFZIoX"
      }
    },
    {
      "cell_type": "code",
      "source": [
        "#Dany"
      ],
      "metadata": {
        "id": "sPCLYpZ-aBHl"
      },
      "execution_count": null,
      "outputs": []
    },
    {
      "cell_type": "markdown",
      "source": [
        "3. Support Vector Machine (SVM):\n",
        "\n",
        "Justification: SVM can efficiently classify data points even when the relationship between the features and the target variable is complex."
      ],
      "metadata": {
        "id": "bS6WZ-GvZuQr"
      }
    },
    {
      "cell_type": "code",
      "source": [],
      "metadata": {
        "id": "hbdhsuKgaBnX"
      },
      "execution_count": null,
      "outputs": []
    },
    {
      "cell_type": "markdown",
      "source": [
        "## K-cross validation"
      ],
      "metadata": {
        "id": "o_d1eCoZaCAs"
      }
    },
    {
      "cell_type": "code",
      "source": [],
      "metadata": {
        "id": "SnmRdSWnaHnL"
      },
      "execution_count": null,
      "outputs": []
    }
  ]
}